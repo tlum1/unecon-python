{
 "cells": [
  {
   "cell_type": "code",
   "execution_count": null,
   "metadata": {},
   "outputs": [],
   "source": [
    "def add_new_students(lastname, firstname):\n",
    "    f = open(\"students.txt\", encoding=\"utf8\")\n",
    "    lines = f.readlines()\n",
    "    lines = [line.strip() for line in lines]\n",
    "    f.close()\n",
    "    lines.append( lastname+ \" \" + firstname)\n",
    "    lines.sort()\n",
    "    f = open(\"students.txt\",\"w\", encoding=\"utf8\")\n",
    "    for line in lines:\n",
    "        f.write(line + \"\\n\")"
   ]
  },
  {
   "cell_type": "code",
   "execution_count": null,
   "metadata": {},
   "outputs": [],
   "source": [
    "def find_student(lastname, firstname=\"\"):\n",
    "    f = open(\"students.txt\", encoding=\"utf8\")\n",
    "    if firstname:\n",
    "        for line in f:\n",
    "            if lastname + \" \" + firstname in line.strip():\n",
    "                print(line.strip())\n",
    "                break\n",
    "    else:\n",
    "        for line in f:\n",
    "            if lastname in line.strip():\n",
    "                print(line.strip())\n"
   ]
  },
  {
   "cell_type": "code",
   "execution_count": null,
   "metadata": {},
   "outputs": [],
   "source": [
    "def edit_student(lastname, firstname, new_lastname=\"\", new_firstname=\"\"):\n",
    "    f = open(\"students.txt\", encoding=\"utf8\")\n",
    "    lines = f.readlines()\n",
    "    lines = [line.strip() for line in lines]\n",
    "    try:\n",
    "        student_index = lines.index(lastname + \" \" + firstname)\n",
    "        if not new_firstname:\n",
    "            new_firstname = firstname\n",
    "        if not new_lastname:\n",
    "            new_lastname = lastname\n",
    "        lines[student_index] = new_lastname + \" \" + new_firstname\n",
    "        \n",
    "        f = open(\"students.txt\",\"w\", encoding=\"utf8\")\n",
    "        for line in lines:\n",
    "            f.write(line + \"\\n\")\n",
    "    except:\n",
    "        print(\"студент не найден\")\n"
   ]
  },
  {
   "cell_type": "code",
   "execution_count": null,
   "metadata": {},
   "outputs": [],
   "source": [
    "def remove_student_by_full_name(lastname, firstname):\n",
    "    f = open(\"students.txt\", encoding=\"utf8\")\n",
    "    lines = f.readlines()\n",
    "    lines = [line.strip() for line in lines]\n",
    "    try:\n",
    "        student_index = lines.index(lastname + \" \" + firstname)\n",
    "        lines.pop(student_index)\n",
    "        f = open(\"students.txt\", \"w\", encoding=\"utf8\")\n",
    "        for line in lines:\n",
    "            f.write(line + \"\\n\")\n",
    "    except:\n",
    "        print(\"студент не найден\")\n",
    "\n",
    "def remove_student(lastname, firstname = \"\"):\n",
    "    if not firstname:\n",
    "        find_student(lastname)\n",
    "        firstname = input(\"Введите имя студента \")\n",
    "    remove_student_by_full_name(lastname, firstname)\n",
    "    "
   ]
  },
  {
   "cell_type": "code",
   "execution_count": null,
   "metadata": {},
   "outputs": [],
   "source": [
    "add_new_students(\"Селифанова\",\"Аня\")"
   ]
  },
  {
   "cell_type": "code",
   "execution_count": null,
   "metadata": {},
   "outputs": [
    {
     "name": "stdout",
     "output_type": "stream",
     "text": [
      "Селифанова Аня\n"
     ]
    }
   ],
   "source": [
    "find_student(\"Селифанова\")"
   ]
  },
  {
   "cell_type": "code",
   "execution_count": null,
   "metadata": {},
   "outputs": [],
   "source": [
    "edit_student(\"Селифанова\", \"Аня\", new_lastname=\"Сазонова\")"
   ]
  },
  {
   "cell_type": "code",
   "execution_count": null,
   "metadata": {},
   "outputs": [
    {
     "name": "stdout",
     "output_type": "stream",
     "text": [
      "Селифанова Аня\n"
     ]
    }
   ],
   "source": [
    "remove_student(\"Селифанова\")"
   ]
  }
 ],
 "metadata": {
  "language_info": {
   "name": "python"
  },
  "orig_nbformat": 4
 },
 "nbformat": 4,
 "nbformat_minor": 2
}
